{
 "cells": [
  {
   "cell_type": "markdown",
   "id": "11a8fa9e",
   "metadata": {},
   "source": [
    "# 📌 1. What is Logistic Regression?\n",
    "\n",
    "**Logistic Regression** is a supervised machine learning algorithm used primarily for **binary classification** tasks. Unlike linear regression which predicts continuous values, logistic regression outputs a **probability** between 0 and 1 by applying the **sigmoid function** to a linear combination of input features.\n",
    "\n",
    "### 🔢 Key Concepts:\n",
    "- Uses **sigmoid/logistic function** to map outputs between 0 and 1.\n",
    "- The result is interpreted as the **probability of belonging to class 1**.\n",
    "- Often used for classification tasks like:\n",
    "  - Spam detection (spam vs. not spam)\n",
    "  - Fraud detection\n",
    "  - Disease prediction (yes/no)\n",
    "\n",
    "### 🧠 Logistic Function (Sigmoid):\n",
    "$$\n",
    "\\sigma(z) = \\frac{1}{1 + e^{-z}} \\quad \\text{where} \\quad z = w_0 + w_1x_1 + ... + w_nx_n\n",
    "$$\n",
    "If the result is > 0.5 → class 1, else → class 0."
   ]
  },
  {
   "cell_type": "markdown",
   "id": "75d95588",
   "metadata": {},
   "source": [
    "==========================================================================================================================================================="
   ]
  },
  {
   "cell_type": "markdown",
   "id": "64a1702c",
   "metadata": {},
   "source": [
    "# 📌 2. Real-world Use Cases\n",
    "\n",
    "Logistic Regression is popular in domains where **binary outcomes** are common and interpretability is important:\n",
    "\n",
    "### ✅ Popular Applications:\n",
    "- **Healthcare**: Predicting disease (e.g., diabetes, cancer risk)\n",
    "- **Finance**: Credit default prediction\n",
    "- **Marketing**: Customer churn prediction\n",
    "- **Cybersecurity**: Email spam detection\n",
    "- **HR**: Employee attrition prediction\n",
    "\n",
    "Its performance and ease of explanation to stakeholders make it a great baseline model in many industries."
   ]
  },
  {
   "cell_type": "markdown",
   "id": "c7cc8654",
   "metadata": {},
   "source": [
    "==========================================================================================================================================================="
   ]
  },
  {
   "cell_type": "markdown",
   "id": "7ad411a1",
   "metadata": {},
   "source": [
    "# 📌 3. Math Behind Logistic Regression\n",
    "\n",
    "Logistic Regression uses a **linear combination of features** and passes it through the **sigmoid function** to get probabilities.\n",
    "\n",
    "### 🧮 Step-by-Step Intuition:\n",
    "1. Compute a linear score:\n",
    "$$\n",
    "z = w_0 + w_1x_1 + w_2x_2 + ... + w_nx_n\n",
    "$$\n",
    "\n",
    "2. Convert score to probability:\n",
    "$$\n",
    "p = \\sigma(z) = \\frac{1}{1 + e^{-z}}\n",
    "$$\n",
    "\n",
    "3. Predict class:\n",
    "- If p > 0.5 → predict 1\n",
    "- If p ≤ 0.5 → predict 0\n",
    "\n",
    "4. Optimize parameters using **Log Loss**:\n",
    "$$\n",
    "\\text{LogLoss} = -\\frac{1}{n} \\sum (y_i \\log(p_i) + (1 - y_i)\\log(1 - p_i))\n",
    "$$\n",
    "\n",
    "Logistic Regression tries to **minimize Log Loss** using optimization techniques like **Gradient Descent**."
   ]
  },
  {
   "cell_type": "markdown",
   "id": "5eb6afc9",
   "metadata": {},
   "source": [
    "==========================================================================================================================================================="
   ]
  },
  {
   "cell_type": "markdown",
   "id": "98e00b00",
   "metadata": {},
   "source": [
    "# 📌 4. Dataset Walkthroughs (Easy → Very Complex)\n",
    "\n",
    "Understanding how Logistic Regression behaves across datasets of different complexity is key to mastering it. Below is the dataset roadmap we’ll use:\n",
    "\n",
    "### 🟢 Easy Level\n",
    "- **Synthetic dataset** with 6 features (e.g., Glucose, BMI)\n",
    "- Balanced classes, clean data, no noise\n",
    "- Goal: Understand logistic regression mechanics\n",
    "\n",
    "### 🟡 Medium Level\n",
    "- Slightly imbalanced dataset (e.g., Titanic survival)\n",
    "- Categorical features requiring encoding\n",
    "- Missing values and basic preprocessing\n",
    "\n",
    "### 🟠 Complex Level\n",
    "- High-dimensional real-world data (e.g., Credit card fraud)\n",
    "- Requires scaling, regularization, class imbalance techniques\n",
    "- Involves feature selection or PCA\n",
    "\n",
    "### 🔴 Very Complex Level\n",
    "- Text classification or multi-class problems (e.g., Sentiment analysis)\n",
    "- Involves TF-IDF vectorization, NLP preprocessing\n",
    "- Requires robust evaluation with AUC, Log Loss, etc.\n",
    "\n",
    "---\n",
    "\n",
    "Each level will help us explore:\n",
    "- How logistic regression performs\n",
    "- Which preprocessing steps are necessary\n",
    "- How to interpret and tune performance"
   ]
  },
  {
   "cell_type": "markdown",
   "id": "ef10ac3a",
   "metadata": {},
   "source": [
    "==========================================================================================================================================================="
   ]
  },
  {
   "cell_type": "markdown",
   "id": "d1018891",
   "metadata": {},
   "source": [
    "# 📌 5. Building Models at Each Level\n",
    "\n",
    "Now let’s walk through how to build Logistic Regression models for each dataset complexity — from beginner-friendly to real-world scale. Each level demonstrates different challenges and modeling strategies.\n",
    "\n",
    "---\n",
    "\n",
    "### 🟢 Easy Level: Synthetic Dataset\n",
    "- Dataset: Generated with `sklearn.datasets.make_classification`\n",
    "- Characteristics: Clean, small, balanced classes, no missing values\n",
    "- Goal: Focus purely on logistic regression behavior\n",
    "\n",
    "**Key Steps:**\n",
    "- No preprocessing required\n",
    "- Split data → Fit model → Evaluate accuracy, confusion matrix\n",
    "\n",
    "---\n",
    "\n",
    "### 🟡 Medium Level: Titanic Survival Dataset\n",
    "- Dataset: Classic binary classification problem\n",
    "- Characteristics: Mix of categorical and numerical data, some missing values\n",
    "- Goal: Learn preprocessing steps and model handling of imbalance\n",
    "\n",
    "**Key Steps:**\n",
    "- Handle missing values (e.g., fill age with median)\n",
    "- Encode categorical variables (e.g., `Sex`, `Embarked`)\n",
    "- Scale numerical features\n",
    "- Use `class_weight='balanced'` to deal with slight class imbalance\n",
    "\n",
    "---\n",
    "\n",
    "### 🟠 Complex Level: Credit Card Fraud Detection\n",
    "- Dataset: Highly imbalanced, noisy, anonymized features\n",
    "- Characteristics: ~280,000 rows, 1% fraud cases\n",
    "- Goal: Model performance under high class imbalance and data volume\n",
    "\n",
    "**Key Steps:**\n",
    "- Apply `StandardScaler` to features\n",
    "- Use undersampling / SMOTE for imbalance\n",
    "- Evaluate using AUC, F1 instead of accuracy\n",
    "- Tune regularization with `GridSearchCV`\n",
    "\n",
    "---\n",
    "\n",
    "### 🔴 Very Complex Level: NLP/Text Sentiment Analysis\n",
    "- Dataset: IMDb reviews (binary sentiment)\n",
    "- Characteristics: Textual data → needs NLP transformation\n",
    "- Goal: Handle TF-IDF + dimensionality + multi-step preprocessing\n",
    "\n",
    "**Key Steps:**\n",
    "- Clean and tokenize text\n",
    "- Convert to numerical with TF-IDF\n",
    "- Use `LogisticRegression(solver='saga')` for sparse input\n",
    "- Perform hyperparameter tuning with `RandomizedSearchCV`\n",
    "- Evaluate with ROC-AUC and log loss\n",
    "\n",
    "---\n",
    "\n",
    "Each of these models will follow:\n",
    "> 🧪 Preprocessing → 🔧 Model Definition → 🚀 Training → 📊 Evaluation"
   ]
  },
  {
   "cell_type": "markdown",
   "id": "ca84a641",
   "metadata": {},
   "source": [
    "==========================================================================================================================================================="
   ]
  },
  {
   "cell_type": "markdown",
   "id": "cdea953c",
   "metadata": {},
   "source": [
    "# 📌 6. Hyperparameter Tuning Deep Dive\n",
    "\n",
    "Tuning hyperparameters can significantly improve the performance of your Logistic Regression model, especially as dataset complexity increases.\n",
    "\n",
    "---\n",
    "\n",
    "### 🎯 Why Tune Hyperparameters?\n",
    "\n",
    "Hyperparameters control **how** your model learns. In Logistic Regression, tuning helps with:\n",
    "- **Regularization strength**\n",
    "- **Solver optimization**\n",
    "- **Convergence speed**\n",
    "- **Model complexity control**\n",
    "\n",
    "---\n",
    "\n",
    "### 🔧 Key Hyperparameters to Tune\n",
    "\n",
    "| Hyperparameter | Purpose | Notes |\n",
    "|----------------|---------|-------|\n",
    "| `C` | Inverse of regularization strength | Smaller values specify stronger regularization |\n",
    "| `penalty` | Type of regularization to apply (`l1`, `l2`, `elasticnet`) | Depends on solver |\n",
    "| `solver` | Algorithm used in optimization (`liblinear`, `saga`, `newton-cg`) | `liblinear` works with small datasets, `saga` for large or sparse |\n",
    "| `max_iter` | Maximum number of iterations to converge | Increase if model doesn't converge |\n",
    "| `class_weight` | Handles class imbalance | `'balanced'` adjusts weights automatically |\n",
    "\n",
    "---\n",
    "\n",
    "### ⚙️ Tuning Strategies by Dataset Level\n",
    "\n",
    "| Complexity | Tuning Method | Tools |\n",
    "|------------|----------------|-------|\n",
    "| Easy | Manual trial-and-error | Default parameters work well |\n",
    "| Medium | GridSearchCV | Explore combinations of 2-3 key params |\n",
    "| Complex | RandomizedSearchCV | Sample from hyperparameter space efficiently |\n",
    "| Very Complex | Optuna / Bayesian Optimization | Intelligent search based on performance history |\n",
    "\n",
    "---\n",
    "\n",
    "### 🔍 Example: Grid Search on Medium Dataset\n",
    "\n",
    "```python\n",
    "from sklearn.model_selection import GridSearchCV\n",
    "\n",
    "param_grid = {\n",
    "    'C': [0.01, 0.1, 1, 10],\n",
    "    'penalty': ['l2'],\n",
    "    'solver': ['liblinear']\n",
    "}\n",
    "\n",
    "grid = GridSearchCV(LogisticRegression(), param_grid, cv=5, scoring='f1')\n",
    "grid.fit(X_train, y_train)\n",
    "\n",
    "print(\\\"Best Params:\\\", grid.best_params_)"
   ]
  },
  {
   "cell_type": "markdown",
   "id": "4774997c",
   "metadata": {},
   "source": [
    "==========================================================================================================================================================="
   ]
  },
  {
   "cell_type": "markdown",
   "id": "b35bad84",
   "metadata": {},
   "source": []
  },
  {
   "cell_type": "code",
   "execution_count": 5,
   "id": "3916caf1",
   "metadata": {},
   "outputs": [
    {
     "name": "stdout",
     "output_type": "stream",
     "text": [
      "✅ Best Parameters: {'C': 1, 'penalty': 'l2', 'solver': 'liblinear'}\n"
     ]
    }
   ],
   "source": [
    "from sklearn.linear_model import LogisticRegression\n",
    "from sklearn.model_selection import GridSearchCV, train_test_split\n",
    "from sklearn.datasets import make_classification\n",
    "import pandas as pd\n",
    "\n",
    "# 1. Generate synthetic data\n",
    "X, y = make_classification(n_samples=500,\n",
    "                           n_features=6,\n",
    "                           n_informative=4,\n",
    "                           n_redundant=0,\n",
    "                           class_sep=2.0,\n",
    "                           flip_y=0.01,\n",
    "                           random_state=42)\n",
    "\n",
    "# 2. Train-test split\n",
    "X_train, X_test, y_train, y_test = train_test_split(X, y, test_size=0.2, random_state=42)\n",
    "\n",
    "# 3. Define hyperparameter grid\n",
    "param_grid = {\n",
    "    'C': [0.01, 0.1, 1, 10],\n",
    "    'penalty': ['l2'],\n",
    "    'solver': ['liblinear']\n",
    "}\n",
    "\n",
    "# 4. Apply GridSearchCV\n",
    "grid = GridSearchCV(LogisticRegression(), param_grid, cv=5, scoring='f1')\n",
    "grid.fit(X_train, y_train)\n",
    "\n",
    "# 5. Best parameters\n",
    "print(\"✅ Best Parameters:\", grid.best_params_)"
   ]
  },
  {
   "cell_type": "markdown",
   "id": "e8fc9235",
   "metadata": {},
   "source": [
    "==========================================================================================================================================================="
   ]
  },
  {
   "cell_type": "markdown",
   "id": "069f2ff0",
   "metadata": {},
   "source": []
  },
  {
   "cell_type": "markdown",
   "id": "c0e1c508",
   "metadata": {},
   "source": [
    "# 📌 7. Evaluating a Model: Metrics to Monitor\n",
    "\n",
    "Evaluating a model correctly is just as important as building it — especially in classification tasks where accuracy alone can be misleading (especially on imbalanced datasets).\n",
    "\n",
    "---\n",
    "\n",
    "### 🔍 Core Evaluation Metrics for Logistic Regression\n",
    "\n",
    "| Metric | Goal | Use When | Formula/Explanation |\n",
    "|--------|------|----------|---------------------|\n",
    "| **Accuracy** | Higher is better | Balanced datasets | % of correctly predicted labels |\n",
    "| **Precision** | Higher is better | Cost of false positives is high | TP / (TP + FP) |\n",
    "| **Recall** | Higher is better | Cost of false negatives is high | TP / (TP + FN) |\n",
    "| **F1 Score** | Higher is better | Imbalanced datasets | Harmonic mean of Precision and Recall |\n",
    "| **AUC-ROC** | Higher is better | Probabilistic separability | Area under the ROC Curve |\n",
    "| **Log Loss** | Lower is better | Probabilistic predictions | Penalizes wrong confident predictions |\n",
    "\n",
    "---\n",
    "\n",
    "### 📈 How to Use Them in Practice\n",
    "\n",
    "- **Confusion Matrix**: Helps break down TP, TN, FP, FN visually\n",
    "- **Classification Report**: Combines all important scores\n",
    "- **ROC Curve**: Visualize model's ability to distinguish classes\n",
    "- **Threshold Tuning**: Change cutoff probability from 0.5 to optimize F1 or recall\n",
    "\n",
    "---\n",
    "\n",
    "### 🧪 Sample Code to Evaluate Model\n"
   ]
  },
  {
   "cell_type": "markdown",
   "id": "52845ecb",
   "metadata": {},
   "source": [
    "==========================================================================================================================================================="
   ]
  },
  {
   "cell_type": "code",
   "execution_count": 7,
   "id": "632d20bb",
   "metadata": {},
   "outputs": [
    {
     "name": "stdout",
     "output_type": "stream",
     "text": [
      "📊 Classification Report:\n",
      "              precision    recall  f1-score   support\n",
      "\n",
      "           0       0.76      0.84      0.80        49\n",
      "           1       0.83      0.75      0.78        51\n",
      "\n",
      "    accuracy                           0.79       100\n",
      "   macro avg       0.79      0.79      0.79       100\n",
      "weighted avg       0.79      0.79      0.79       100\n",
      "\n",
      "🧾 Confusion Matrix:\n",
      "[[41  8]\n",
      " [13 38]]\n",
      "n📈 ROC AUC Score: 0.8907563025210085\n"
     ]
    }
   ],
   "source": [
    "from sklearn.metrics import classification_report, confusion_matrix, roc_auc_score\n",
    "\n",
    "# Predict\n",
    "y_pred = grid.predict(X_test)\n",
    "y_proba = grid.predict_proba(X_test)[:, 1]\n",
    "\n",
    "# Classification report\n",
    "print(\"📊 Classification Report:\")\n",
    "print(classification_report(y_test, y_pred))\n",
    "\n",
    "# Confusion Matrix\n",
    "print(\"🧾 Confusion Matrix:\")\n",
    "print(confusion_matrix(y_test, y_pred))\n",
    "\n",
    "# AUC Score\n",
    "print(\"n📈 ROC AUC Score:\", roc_auc_score(y_test, y_proba))"
   ]
  },
  {
   "cell_type": "markdown",
   "id": "297fa411",
   "metadata": {},
   "source": [
    "==========================================================================================================================================================="
   ]
  },
  {
   "cell_type": "markdown",
   "id": "be391d68",
   "metadata": {},
   "source": [
    "### 🔍 Interpretation:\n",
    "- The model performs **fairly balanced** across both classes.\n",
    "- Slight trade-off between **precision and recall**.\n",
    "- **AUC of 0.89** indicates strong class separability — excellent for an easy-level dataset!\n",
    "\n",
    "---\n",
    "\n",
    "### 📚 Additional Learning Resources\n",
    "\n",
    "- [sklearn LogisticRegression Docs](https://scikit-learn.org/stable/modules/generated/sklearn.linear_model.LogisticRegression.html)\n",
    "- [Visual Introduction to Logistic Regression](https://towardsdatascience.com/logistic-regression-detailed-overview-46c4da4303bc)\n",
    "- [Confusion Matrix Explained](https://ml-cheatsheet.readthedocs.io/en/latest/classification.html)\n",
    "\n",
    "---\n",
    "\n",
    "### 🔗 GitHub Repo & Medium Article\n",
    "\n",
    "Once you’ve completed all complexity levels and polishing:\n",
    "\n",
    "📁 GitHub:  \n",
    "➡️ `https://github.com/yourusername/logistic-regression-learning`\n",
    "\n",
    "✍️ Medium:  \n",
    "➡️ `https://medium.com/@yourname/logistic-regression-explained`\n",
    "\n",
    "---\n",
    "\n",
    "### 🏁 Final Note\n",
    "\n",
    "Logistic Regression is a powerful, interpretable baseline model. Mastering it sets the foundation for exploring more complex ML and deep learning techniques 🚀\n",
    "\n",
    "Let’s now build out the **medium-level model**, or would you prefer to export this `.ipynb` file first?"
   ]
  },
  {
   "cell_type": "markdown",
   "id": "a0c13ab1",
   "metadata": {},
   "source": [
    "==========================================================================================================================================================="
   ]
  },
  {
   "cell_type": "markdown",
   "id": "dab73d40",
   "metadata": {},
   "source": [
    "# 📌 8. Conclusion + Resources + GitHub Link\n",
    "\n",
    "### 🎯 Summary\n",
    "In this notebook, we’ve walked through Logistic Regression from theory to practice — covering intuition, real-world use cases, dataset walkthroughs, model building across complexity levels, hyperparameter tuning, and model evaluation.\n",
    "\n",
    "### 🧪 Final Model Evaluation (on Easy Dataset)\n",
    "**Classification Report:**\n",
    "\n",
    "| Class | Precision | Recall | F1-Score | Support |\n",
    "|-------|-----------|--------|----------|---------|\n",
    "| 0     | 0.76      | 0.84   | 0.80     | 49      |\n",
    "| 1     | 0.83      | 0.75   | 0.78     | 51      |\n",
    "\n",
    "- **Accuracy**: 0.79\n",
    "- **Macro Avg F1**: 0.79\n",
    "- **ROC AUC Score**: **0.89** 🔥\n",
    "\n",
    "**Confusion Matrix:**\n",
    "```\n",
    "Predicted\n",
    "      0     1\n",
    "    ----------\n",
    "0 |  41   |  8\n",
    "1 |  13   | 38\n",
    "```\n",
    "\n",
    "### 🔍 Interpretation\n",
    "- The model shows balanced precision and recall\n",
    "- AUC of 0.89 shows great class separability\n",
    "- Slightly higher recall on class 0, better precision on class 1\n",
    "\n",
    "---\n",
    "\n",
    "### 📚 Additional Learning Resources\n",
    "- [Scikit-Learn Docs](https://scikit-learn.org/stable/modules/generated/sklearn.linear_model.LogisticRegression.html)\n",
    "- [Towards Data Science Logistic Regression](https://towardsdatascience.com/logistic-regression-detailed-overview-46c4da4303bc)\n",
    "- [Confusion Matrix Guide](https://ml-cheatsheet.readthedocs.io/en/latest/classification.html)\n",
    "\n",
    "---\n",
    "\n",
    "### 🔗 GitHub & Medium Links\n",
    "- GitHub: `https://github.com/anirudhyadav/Logistic-Regression`\n",
    "- Medium: `https://medium.com/@yourname/logistic-regression-explained`\n",
    "\n",
    "---\n",
    "Thank you for following along 🙌. Logistic Regression is a powerful first step in your machine learning journey!"
   ]
  },
  {
   "cell_type": "markdown",
   "id": "d4fd33be",
   "metadata": {},
   "source": [
    "# Taking an simple dataset for evaluation"
   ]
  },
  {
   "cell_type": "code",
   "execution_count": 3,
   "id": "d0bde70e",
   "metadata": {},
   "outputs": [
    {
     "data": {
      "text/html": [
       "<div>\n",
       "<style scoped>\n",
       "    .dataframe tbody tr th:only-of-type {\n",
       "        vertical-align: middle;\n",
       "    }\n",
       "\n",
       "    .dataframe tbody tr th {\n",
       "        vertical-align: top;\n",
       "    }\n",
       "\n",
       "    .dataframe thead th {\n",
       "        text-align: right;\n",
       "    }\n",
       "</style>\n",
       "<table border=\"1\" class=\"dataframe\">\n",
       "  <thead>\n",
       "    <tr style=\"text-align: right;\">\n",
       "      <th></th>\n",
       "      <th>Glucose</th>\n",
       "      <th>BMI</th>\n",
       "      <th>Age</th>\n",
       "      <th>BloodPressure</th>\n",
       "      <th>Insulin</th>\n",
       "      <th>SkinThickness</th>\n",
       "      <th>Outcome</th>\n",
       "    </tr>\n",
       "  </thead>\n",
       "  <tbody>\n",
       "    <tr>\n",
       "      <th>0</th>\n",
       "      <td>-1.060632</td>\n",
       "      <td>-0.866723</td>\n",
       "      <td>-1.225768</td>\n",
       "      <td>-0.187095</td>\n",
       "      <td>-2.495549</td>\n",
       "      <td>0.279071</td>\n",
       "      <td>1</td>\n",
       "    </tr>\n",
       "    <tr>\n",
       "      <th>1</th>\n",
       "      <td>-4.848393</td>\n",
       "      <td>0.619566</td>\n",
       "      <td>0.410731</td>\n",
       "      <td>0.419664</td>\n",
       "      <td>-4.166574</td>\n",
       "      <td>-3.640202</td>\n",
       "      <td>1</td>\n",
       "    </tr>\n",
       "    <tr>\n",
       "      <th>2</th>\n",
       "      <td>-3.740107</td>\n",
       "      <td>0.933784</td>\n",
       "      <td>-0.325363</td>\n",
       "      <td>-1.511387</td>\n",
       "      <td>-2.803707</td>\n",
       "      <td>-1.421201</td>\n",
       "      <td>0</td>\n",
       "    </tr>\n",
       "    <tr>\n",
       "      <th>3</th>\n",
       "      <td>-2.791401</td>\n",
       "      <td>0.232595</td>\n",
       "      <td>-0.219750</td>\n",
       "      <td>0.967504</td>\n",
       "      <td>-3.989607</td>\n",
       "      <td>-2.582002</td>\n",
       "      <td>1</td>\n",
       "    </tr>\n",
       "    <tr>\n",
       "      <th>4</th>\n",
       "      <td>-1.330371</td>\n",
       "      <td>-0.582112</td>\n",
       "      <td>-0.588039</td>\n",
       "      <td>-1.553820</td>\n",
       "      <td>-1.513541</td>\n",
       "      <td>-3.138700</td>\n",
       "      <td>0</td>\n",
       "    </tr>\n",
       "  </tbody>\n",
       "</table>\n",
       "</div>"
      ],
      "text/plain": [
       "    Glucose       BMI       Age  BloodPressure   Insulin  SkinThickness  \\\n",
       "0 -1.060632 -0.866723 -1.225768      -0.187095 -2.495549       0.279071   \n",
       "1 -4.848393  0.619566  0.410731       0.419664 -4.166574      -3.640202   \n",
       "2 -3.740107  0.933784 -0.325363      -1.511387 -2.803707      -1.421201   \n",
       "3 -2.791401  0.232595 -0.219750       0.967504 -3.989607      -2.582002   \n",
       "4 -1.330371 -0.582112 -0.588039      -1.553820 -1.513541      -3.138700   \n",
       "\n",
       "   Outcome  \n",
       "0        1  \n",
       "1        1  \n",
       "2        0  \n",
       "3        1  \n",
       "4        0  "
      ]
     },
     "execution_count": 3,
     "metadata": {},
     "output_type": "execute_result"
    }
   ],
   "source": [
    "import pandas as pd\n",
    "import matplotlib.pyplot as plt\n",
    "import seaborn as sns\n",
    "\n",
    "# Load dataset\n",
    "file_path = 'logistic_regression_easy_dataset.csv'\n",
    "df = pd.read_csv(file_path)\n",
    "df.head()"
   ]
  },
  {
   "cell_type": "code",
   "execution_count": 4,
   "id": "327770b5",
   "metadata": {},
   "outputs": [
    {
     "name": "stdout",
     "output_type": "stream",
     "text": [
      "<class 'pandas.core.frame.DataFrame'>\n",
      "RangeIndex: 500 entries, 0 to 499\n",
      "Data columns (total 7 columns):\n",
      " #   Column         Non-Null Count  Dtype  \n",
      "---  ------         --------------  -----  \n",
      " 0   Glucose        500 non-null    float64\n",
      " 1   BMI            500 non-null    float64\n",
      " 2   Age            500 non-null    float64\n",
      " 3   BloodPressure  500 non-null    float64\n",
      " 4   Insulin        500 non-null    float64\n",
      " 5   SkinThickness  500 non-null    float64\n",
      " 6   Outcome        500 non-null    int64  \n",
      "dtypes: float64(6), int64(1)\n",
      "memory usage: 27.5 KB\n"
     ]
    },
    {
     "data": {
      "text/html": [
       "<div>\n",
       "<style scoped>\n",
       "    .dataframe tbody tr th:only-of-type {\n",
       "        vertical-align: middle;\n",
       "    }\n",
       "\n",
       "    .dataframe tbody tr th {\n",
       "        vertical-align: top;\n",
       "    }\n",
       "\n",
       "    .dataframe thead th {\n",
       "        text-align: right;\n",
       "    }\n",
       "</style>\n",
       "<table border=\"1\" class=\"dataframe\">\n",
       "  <thead>\n",
       "    <tr style=\"text-align: right;\">\n",
       "      <th></th>\n",
       "      <th>Glucose</th>\n",
       "      <th>BMI</th>\n",
       "      <th>Age</th>\n",
       "      <th>BloodPressure</th>\n",
       "      <th>Insulin</th>\n",
       "      <th>SkinThickness</th>\n",
       "      <th>Outcome</th>\n",
       "    </tr>\n",
       "  </thead>\n",
       "  <tbody>\n",
       "    <tr>\n",
       "      <th>count</th>\n",
       "      <td>500.000000</td>\n",
       "      <td>500.000000</td>\n",
       "      <td>500.000000</td>\n",
       "      <td>500.000000</td>\n",
       "      <td>500.000000</td>\n",
       "      <td>500.000000</td>\n",
       "      <td>500.000000</td>\n",
       "    </tr>\n",
       "    <tr>\n",
       "      <th>mean</th>\n",
       "      <td>-2.113685</td>\n",
       "      <td>0.034929</td>\n",
       "      <td>0.081836</td>\n",
       "      <td>0.016729</td>\n",
       "      <td>-2.017899</td>\n",
       "      <td>-2.015205</td>\n",
       "      <td>0.502000</td>\n",
       "    </tr>\n",
       "    <tr>\n",
       "      <th>std</th>\n",
       "      <td>1.231448</td>\n",
       "      <td>0.983367</td>\n",
       "      <td>1.012864</td>\n",
       "      <td>2.445191</td>\n",
       "      <td>1.018771</td>\n",
       "      <td>1.273533</td>\n",
       "      <td>0.500497</td>\n",
       "    </tr>\n",
       "    <tr>\n",
       "      <th>min</th>\n",
       "      <td>-5.806029</td>\n",
       "      <td>-2.924925</td>\n",
       "      <td>-3.386814</td>\n",
       "      <td>-5.387336</td>\n",
       "      <td>-5.246107</td>\n",
       "      <td>-5.793136</td>\n",
       "      <td>0.000000</td>\n",
       "    </tr>\n",
       "    <tr>\n",
       "      <th>25%</th>\n",
       "      <td>-2.947198</td>\n",
       "      <td>-0.651934</td>\n",
       "      <td>-0.591849</td>\n",
       "      <td>-2.141264</td>\n",
       "      <td>-2.634057</td>\n",
       "      <td>-2.812106</td>\n",
       "      <td>0.000000</td>\n",
       "    </tr>\n",
       "    <tr>\n",
       "      <th>50%</th>\n",
       "      <td>-2.129721</td>\n",
       "      <td>0.100100</td>\n",
       "      <td>0.108532</td>\n",
       "      <td>-0.061649</td>\n",
       "      <td>-2.005363</td>\n",
       "      <td>-1.976833</td>\n",
       "      <td>1.000000</td>\n",
       "    </tr>\n",
       "    <tr>\n",
       "      <th>75%</th>\n",
       "      <td>-1.327673</td>\n",
       "      <td>0.696815</td>\n",
       "      <td>0.774880</td>\n",
       "      <td>2.050735</td>\n",
       "      <td>-1.429413</td>\n",
       "      <td>-1.190858</td>\n",
       "      <td>1.000000</td>\n",
       "    </tr>\n",
       "    <tr>\n",
       "      <th>max</th>\n",
       "      <td>2.364098</td>\n",
       "      <td>3.495878</td>\n",
       "      <td>2.562528</td>\n",
       "      <td>6.257002</td>\n",
       "      <td>1.534800</td>\n",
       "      <td>2.244940</td>\n",
       "      <td>1.000000</td>\n",
       "    </tr>\n",
       "  </tbody>\n",
       "</table>\n",
       "</div>"
      ],
      "text/plain": [
       "          Glucose         BMI         Age  BloodPressure     Insulin  \\\n",
       "count  500.000000  500.000000  500.000000     500.000000  500.000000   \n",
       "mean    -2.113685    0.034929    0.081836       0.016729   -2.017899   \n",
       "std      1.231448    0.983367    1.012864       2.445191    1.018771   \n",
       "min     -5.806029   -2.924925   -3.386814      -5.387336   -5.246107   \n",
       "25%     -2.947198   -0.651934   -0.591849      -2.141264   -2.634057   \n",
       "50%     -2.129721    0.100100    0.108532      -0.061649   -2.005363   \n",
       "75%     -1.327673    0.696815    0.774880       2.050735   -1.429413   \n",
       "max      2.364098    3.495878    2.562528       6.257002    1.534800   \n",
       "\n",
       "       SkinThickness     Outcome  \n",
       "count     500.000000  500.000000  \n",
       "mean       -2.015205    0.502000  \n",
       "std         1.273533    0.500497  \n",
       "min        -5.793136    0.000000  \n",
       "25%        -2.812106    0.000000  \n",
       "50%        -1.976833    1.000000  \n",
       "75%        -1.190858    1.000000  \n",
       "max         2.244940    1.000000  "
      ]
     },
     "execution_count": 4,
     "metadata": {},
     "output_type": "execute_result"
    }
   ],
   "source": [
    "# Overview of dataset structure\n",
    "df.info()\n",
    "\n",
    "# Basic statistics\n",
    "df.describe()"
   ]
  },
  {
   "cell_type": "code",
   "execution_count": 5,
   "id": "053303d6",
   "metadata": {},
   "outputs": [
    {
     "data": {
      "image/png": "[encoded data removed]",
      "text/plain": [
       "<Figure size 800x600 with 2 Axes>"
      ]
     },
     "metadata": {},
     "output_type": "display_data"
    }
   ],
   "source": [
    "# Correlation heatmap\n",
    "plt.figure(figsize=(8, 6))\n",
    "sns.heatmap(df.corr(), annot=True, cmap='coolwarm')\n",
    "plt.title('Feature Correlation')\n",
    "plt.show()"
   ]
  },
  {
   "cell_type": "code",
   "execution_count": 6,
   "id": "9ac43988",
   "metadata": {},
   "outputs": [],
   "source": [
    "from sklearn.model_selection import train_test_split\n",
    "\n",
    "X = df.drop('Outcome', axis=1)\n",
    "y = df['Outcome']\n",
    "\n",
    "X_train, X_test, y_train, y_test = train_test_split(X, y, test_size=0.2, random_state=42)"
   ]
  },
  {
   "cell_type": "code",
   "execution_count": 7,
   "id": "f290804c",
   "metadata": {},
   "outputs": [],
   "source": [
    "from sklearn.linear_model import LogisticRegression\n",
    "\n",
    "model = LogisticRegression()\n",
    "model.fit(X_train, y_train)\n",
    "\n",
    "# Predict\n",
    "y_pred = model.predict(X_test)"
   ]
  },
  {
   "cell_type": "code",
   "execution_count": 8,
   "id": "dc5c335e",
   "metadata": {},
   "outputs": [
    {
     "name": "stdout",
     "output_type": "stream",
     "text": [
      "📊 Classification Report:\n",
      "               precision    recall  f1-score   support\n",
      "\n",
      "           0       0.93      0.91      0.92        46\n",
      "           1       0.93      0.94      0.94        54\n",
      "\n",
      "    accuracy                           0.93       100\n",
      "   macro avg       0.93      0.93      0.93       100\n",
      "weighted avg       0.93      0.93      0.93       100\n",
      "\n",
      "🧾 Confusion Matrix:\n",
      " [[42  4]\n",
      " [ 3 51]]\n",
      "📈 ROC AUC Score: 0.9879227053140096\n"
     ]
    }
   ],
   "source": [
    "from sklearn.metrics import classification_report, confusion_matrix, roc_auc_score\n",
    "\n",
    "print(\"📊 Classification Report:\\n\", classification_report(y_test, y_pred))\n",
    "print(\"🧾 Confusion Matrix:\\n\", confusion_matrix(y_test, y_pred))\n",
    "\n",
    "# AUC Score\n",
    "y_proba = model.predict_proba(X_test)[:, 1]\n",
    "print(\"📈 ROC AUC Score:\", roc_auc_score(y_test, y_proba))"
   ]
  },
  {
   "cell_type": "code",
   "execution_count": 9,
   "id": "f5e08c13",
   "metadata": {},
   "outputs": [
    {
     "name": "stdout",
     "output_type": "stream",
     "text": [
      "✅ Best Parameters: {'C': 0.01, 'penalty': 'l2', 'solver': 'liblinear'}\n"
     ]
    }
   ],
   "source": [
    "from sklearn.model_selection import GridSearchCV\n",
    "\n",
    "param_grid = {\n",
    "    'C': [0.01, 0.1, 1, 10],\n",
    "    'penalty': ['l2'],\n",
    "    'solver': ['liblinear']\n",
    "}\n",
    "\n",
    "grid = GridSearchCV(LogisticRegression(), param_grid, cv=5, scoring='f1')\n",
    "grid.fit(X_train, y_train)\n",
    "\n",
    "print(\"✅ Best Parameters:\", grid.best_params_)"
   ]
  },
  {
   "cell_type": "code",
   "execution_count": 10,
   "id": "24dee9af",
   "metadata": {},
   "outputs": [
    {
     "name": "stdout",
     "output_type": "stream",
     "text": [
      "📊 Final Classification Report:\n",
      "               precision    recall  f1-score   support\n",
      "\n",
      "           0       0.93      0.93      0.93        46\n",
      "           1       0.94      0.94      0.94        54\n",
      "\n",
      "    accuracy                           0.94       100\n",
      "   macro avg       0.94      0.94      0.94       100\n",
      "weighted avg       0.94      0.94      0.94       100\n",
      "\n",
      "🧾 Final Confusion Matrix:\n",
      " [[43  3]\n",
      " [ 3 51]]\n",
      "📈 Final ROC AUC Score: 0.9887278582930756\n"
     ]
    }
   ],
   "source": [
    "# Evaluate best model\n",
    "y_best_pred = grid.predict(X_test)\n",
    "y_best_proba = grid.predict_proba(X_test)[:, 1]\n",
    "\n",
    "print(\"📊 Final Classification Report:\\n\", classification_report(y_test, y_best_pred))\n",
    "print(\"🧾 Final Confusion Matrix:\\n\", confusion_matrix(y_test, y_best_pred))\n",
    "print(\"📈 Final ROC AUC Score:\", roc_auc_score(y_test, y_best_proba))"
   ]
  },
  {
   "cell_type": "markdown",
   "id": "1a0992d7",
   "metadata": {},
   "source": [
    "# 📌 Conclusion & Insights\n",
    "- Logistic Regression performed well on the clean, balanced dataset\n",
    "- Best hyperparameters helped achieve better F1 score\n",
    "- AUC score indicates good class separation\n",
    "\n",
    "### 🔗 Next Steps\n",
    "- Try on imbalanced datasets\n",
    "- Add feature engineering\n",
    "- Compare with tree-based classifiers"
   ]
  },
  {
   "cell_type": "markdown",
   "id": "28ce0b24",
   "metadata": {},
   "source": []
  },
  {
   "cell_type": "markdown",
   "id": "2cbfa255",
   "metadata": {},
   "source": []
  },
  {
   "cell_type": "markdown",
   "id": "a73a77ee",
   "metadata": {},
   "source": []
  },
  {
   "cell_type": "markdown",
   "id": "a5940f4b",
   "metadata": {},
   "source": [
    "# 📘 Logistic Regression Master Notebook\n",
    "\n",
    "This notebook covers:\n",
    "1. Overview & Intuition of Logistic Regression\n",
    "2. Real-world Applications\n",
    "3. Mathematical Foundations\n",
    "4. Easy Dataset Modeling\n",
    "5. Medium Complexity Dataset Preparation\n"
   ]
  },
  {
   "cell_type": "markdown",
   "id": "d66f7e8c",
   "metadata": {},
   "source": [
    "## 🔍 What is Logistic Regression?\n",
    "**Logistic Regression** is a supervised machine learning algorithm used primarily for **binary classification** tasks. It predicts the probability of class membership using a logistic (sigmoid) function.\n",
    "\n",
    "**Sigmoid Function:**\n",
    "$$\\sigma(z) = \\frac{1}{1 + e^{-z}}$$\n",
    "Where $z = w_0 + w_1x_1 + ... + w_nx_n$\n",
    "\n",
    "If $\\sigma(z) > 0.5$, predict class 1; else, class 0."
   ]
  },
  {
   "cell_type": "markdown",
   "id": "52313e72",
   "metadata": {},
   "source": [
    "## 🟢 Easy Dataset Modeling\n",
    "We use a clean synthetic dataset with 6 features. It is balanced and noise-free."
   ]
  },
  {
   "cell_type": "code",
   "execution_count": null,
   "id": "427bba7f",
   "metadata": {},
   "outputs": [],
   "source": [
    "import pandas as pd\n",
    "import seaborn as sns\n",
    "import matplotlib.pyplot as plt\n",
    "from sklearn.model_selection import train_test_split\n",
    "from sklearn.linear_model import LogisticRegression\n",
    "from sklearn.metrics import classification_report, confusion_matrix, roc_auc_score\n",
    "\n",
    "# Load easy dataset\n",
    "df_easy = pd.read_csv('logistic_regression_easy_dataset.csv')\n",
    "\n",
    "# Split\n",
    "easy_X = df_easy.drop('Outcome', axis=1)\n",
    "easy_y = df_easy['Outcome']\n",
    "X_train, X_test, y_train, y_test = train_test_split(easy_X, easy_y, test_size=0.2, random_state=42)\n",
    "\n",
    "# Train model\n",
    "model = LogisticRegression()\n",
    "model.fit(X_train, y_train)\n",
    "\n",
    "# Predict\n",
    "y_pred = model.predict(X_test)\n",
    "y_proba = model.predict_proba(X_test)[:, 1]\n",
    "\n",
    "# Evaluation\n",
    "print(\"📊 Classification Report:\\n\", classification_report(y_test, y_pred))\n",
    "print(\"🧾 Confusion Matrix:\\n\", confusion_matrix(y_test, y_pred))\n",
    "print(\"📈 ROC AUC Score:\", roc_auc_score(y_test, y_proba))"
   ]
  },
  {
   "cell_type": "markdown",
   "id": "f5623094",
   "metadata": {},
   "source": [
    "## 🟡 Medium Complexity Dataset\n",
    "**Overview:** This synthetic dataset includes 8 features and introduces:\n",
    "- Class imbalance (65% vs 35%)\n",
    "- Noise (5%)\n",
    "- Slightly harder separation between classes\n",
    "\n",
    "**Features:** Glucose, BMI, Age, BloodPressure, Insulin, SkinThickness, Cholesterol, Pregnancies"
   ]
  },
  {
   "cell_type": "code",
   "execution_count": null,
   "id": "74ef4d5a",
   "metadata": {},
   "outputs": [],
   "source": [
    "medium_df = pd.read_csv('logistic_regression_medium_dataset.csv')\n",
    "medium_df.head()"
   ]
  },
  {
   "cell_type": "code",
   "execution_count": null,
   "id": "73b92a0e",
   "metadata": {},
   "outputs": [],
   "source": [
    "# Visualize class distribution\n",
    "sns.countplot(data=medium_df, x='Outcome')\n",
    "plt.title('Target Class Distribution')\n",
    "plt.show()\n",
    "\n",
    "# Summary stats\n",
    "medium_df.describe()"
   ]
  },
  {
   "cell_type": "markdown",
   "id": "56c7c014",
   "metadata": {},
   "source": [
    "## 🔴 Complex Dataset Overview\n",
    "**Scenario**: This synthetic dataset emulates a real-world high-stakes classification case, such as fraud or rare disease detection.\n",
    "\n",
    "**Characteristics:**\n",
    "- 2000 samples\n",
    "- 20 features (informative + redundant)\n",
    "- Heavy class imbalance: 90% vs 10%\n",
    "- 10% label noise\n",
    "\n",
    "This complexity challenges both generalization and evaluation of Logistic Regression models."
   ]
  },
  {
   "cell_type": "code",
   "execution_count": null,
   "id": "09864c76",
   "metadata": {},
   "outputs": [],
   "source": [
    "df_complex = pd.read_csv('logistic_regression_complex_dataset.csv')\n",
    "df_complex.head()"
   ]
  },
  {
   "cell_type": "code",
   "execution_count": null,
   "id": "335c4d5b",
   "metadata": {},
   "outputs": [],
   "source": [
    "# Visualize imbalance\n",
    "import seaborn as sns\n",
    "import matplotlib.pyplot as plt\n",
    "\n",
    "sns.countplot(data=df_complex, x='Outcome')\n",
    "plt.title('Class Imbalance in Complex Dataset')\n",
    "plt.show()\n",
    "\n",
    "# Basic summary\n",
    "df_complex.describe()"
   ]
  },
  {
   "cell_type": "markdown",
   "id": "de86e6fe",
   "metadata": {},
   "source": [
    "### ⚙️ Training Logistic Regression on Complex Dataset\n",
    "We'll now:\n",
    "- Scale features\n",
    "- Apply Logistic Regression with class weighting\n",
    "- Evaluate performance using metrics like AUC, F1, and confusion matrix"
   ]
  },
  {
   "cell_type": "code",
   "execution_count": null,
   "id": "f1ff1a52",
   "metadata": {},
   "outputs": [],
   "source": [
    "from sklearn.preprocessing import StandardScaler\n",
    "from sklearn.linear_model import LogisticRegression\n",
    "from sklearn.model_selection import train_test_split\n",
    "from sklearn.metrics import classification_report, confusion_matrix, roc_auc_score\n",
    "\n",
    "# Prepare data\n",
    "X = df_complex.drop('Outcome', axis=1)\n",
    "y = df_complex['Outcome']\n",
    "\n",
    "scaler = StandardScaler()\n",
    "X_scaled = scaler.fit_transform(X)\n",
    "X_train, X_test, y_train, y_test = train_test_split(X_scaled, y, test_size=0.2, stratify=y, random_state=42)\n",
    "\n",
    "# Apply class_weight='balanced' to handle imbalance\n",
    "model = LogisticRegression(class_weight='balanced', max_iter=1000)\n",
    "model.fit(X_train, y_train)\n",
    "y_pred = model.predict(X_test)\n",
    "y_proba = model.predict_proba(X_test)[:, 1]"
   ]
  },
  {
   "cell_type": "code",
   "execution_count": null,
   "id": "9bc22551",
   "metadata": {},
   "outputs": [],
   "source": [
    "# Evaluation\n",
    "print(\"\\n📊 Classification Report:\\n\", classification_report(y_test, y_pred))\n",
    "print(\"\\n🧾 Confusion Matrix:\\n\", confusion_matrix(y_test, y_pred))\n",
    "print(\"\\n📈 ROC AUC Score:\", roc_auc_score(y_test, y_proba))"
   ]
  },
  {
   "cell_type": "markdown",
   "id": "8acd696a",
   "metadata": {},
   "source": [
    "# 📘 Logistic Regression Master Notebook\n",
    "\n",
    "This notebook covers:\n",
    "1. Overview & Intuition of Logistic Regression\n",
    "2. Real-world Applications\n",
    "3. Mathematical Foundations\n",
    "4. Easy Dataset Modeling\n",
    "5. Medium Complexity Dataset Preparation\n"
   ]
  },
  {
   "cell_type": "markdown",
   "id": "a84ea4a2",
   "metadata": {},
   "source": [
    "## 🔍 What is Logistic Regression?\n",
    "**Logistic Regression** is a supervised machine learning algorithm used primarily for **binary classification** tasks. It predicts the probability of class membership using a logistic (sigmoid) function.\n",
    "\n",
    "**Sigmoid Function:**\n",
    "$$\\sigma(z) = \\frac{1}{1 + e^{-z}}$$\n",
    "Where $z = w_0 + w_1x_1 + ... + w_nx_n$\n",
    "\n",
    "If $\\sigma(z) > 0.5$, predict class 1; else, class 0."
   ]
  },
  {
   "cell_type": "markdown",
   "id": "fd6f3230",
   "metadata": {},
   "source": [
    "## 🟢 Easy Dataset Modeling\n",
    "We use a clean synthetic dataset with 6 features. It is balanced and noise-free."
   ]
  },
  {
   "cell_type": "code",
   "execution_count": null,
   "id": "85db4b75",
   "metadata": {},
   "outputs": [],
   "source": [
    "import pandas as pd\n",
    "import seaborn as sns\n",
    "import matplotlib.pyplot as plt\n",
    "from sklearn.model_selection import train_test_split\n",
    "from sklearn.linear_model import LogisticRegression\n",
    "from sklearn.metrics import classification_report, confusion_matrix, roc_auc_score\n",
    "\n",
    "# Load easy dataset\n",
    "df_easy = pd.read_csv('logistic_regression_easy_dataset.csv')\n",
    "\n",
    "# Split\n",
    "easy_X = df_easy.drop('Outcome', axis=1)\n",
    "easy_y = df_easy['Outcome']\n",
    "X_train, X_test, y_train, y_test = train_test_split(easy_X, easy_y, test_size=0.2, random_state=42)\n",
    "\n",
    "# Train model\n",
    "model = LogisticRegression()\n",
    "model.fit(X_train, y_train)\n",
    "\n",
    "# Predict\n",
    "y_pred = model.predict(X_test)\n",
    "y_proba = model.predict_proba(X_test)[:, 1]\n",
    "\n",
    "# Evaluation\n",
    "print(\"📊 Classification Report:\\n\", classification_report(y_test, y_pred))\n",
    "print(\"🧾 Confusion Matrix:\\n\", confusion_matrix(y_test, y_pred))\n",
    "print(\"📈 ROC AUC Score:\", roc_auc_score(y_test, y_proba))"
   ]
  },
  {
   "cell_type": "markdown",
   "id": "bbab679c",
   "metadata": {},
   "source": [
    "## 🟡 Medium Complexity Dataset\n",
    "**Overview:** This synthetic dataset includes 8 features and introduces:\n",
    "- Class imbalance (65% vs 35%)\n",
    "- Noise (5%)\n",
    "- Slightly harder separation between classes\n",
    "\n",
    "**Features:** Glucose, BMI, Age, BloodPressure, Insulin, SkinThickness, Cholesterol, Pregnancies"
   ]
  },
  {
   "cell_type": "code",
   "execution_count": null,
   "id": "02fd6c4c",
   "metadata": {},
   "outputs": [],
   "source": [
    "medium_df = pd.read_csv('logistic_regression_medium_dataset.csv')\n",
    "medium_df.head()"
   ]
  },
  {
   "cell_type": "code",
   "execution_count": null,
   "id": "50f88bff",
   "metadata": {},
   "outputs": [],
   "source": [
    "# Visualize class distribution\n",
    "sns.countplot(data=medium_df, x='Outcome')\n",
    "plt.title('Target Class Distribution')\n",
    "plt.show()\n",
    "\n",
    "# Summary stats\n",
    "medium_df.describe()"
   ]
  },
  {
   "cell_type": "markdown",
   "id": "121c73ce",
   "metadata": {},
   "source": [
    "# 📘 Logistic Regression Master Notebook\n",
    "\n",
    "This notebook covers:\n",
    "1. Overview & Intuition of Logistic Regression\n",
    "2. Real-world Applications\n",
    "3. Mathematical Foundations\n",
    "4. Easy Dataset Modeling\n",
    "5. Medium Complexity Dataset Preparation\n"
   ]
  },
  {
   "cell_type": "markdown",
   "id": "10c2caf5",
   "metadata": {},
   "source": [
    "## 🔍 What is Logistic Regression?\n",
    "**Logistic Regression** is a supervised machine learning algorithm used primarily for **binary classification** tasks. It predicts the probability of class membership using a logistic (sigmoid) function.\n",
    "\n",
    "**Sigmoid Function:**\n",
    "$$\\sigma(z) = \\frac{1}{1 + e^{-z}}$$\n",
    "Where $z = w_0 + w_1x_1 + ... + w_nx_n$\n",
    "\n",
    "If $\\sigma(z) > 0.5$, predict class 1; else, class 0."
   ]
  },
  {
   "cell_type": "markdown",
   "id": "1886f4f5",
   "metadata": {},
   "source": [
    "## 🟢 Easy Dataset Modeling\n",
    "We use a clean synthetic dataset with 6 features. It is balanced and noise-free."
   ]
  },
  {
   "cell_type": "code",
   "execution_count": null,
   "id": "2b1241b6",
   "metadata": {},
   "outputs": [],
   "source": [
    "import pandas as pd\n",
    "import seaborn as sns\n",
    "import matplotlib.pyplot as plt\n",
    "from sklearn.model_selection import train_test_split\n",
    "from sklearn.linear_model import LogisticRegression\n",
    "from sklearn.metrics import classification_report, confusion_matrix, roc_auc_score\n",
    "\n",
    "# Load easy dataset\n",
    "df_easy = pd.read_csv('logistic_regression_easy_dataset.csv')\n",
    "\n",
    "# Split\n",
    "easy_X = df_easy.drop('Outcome', axis=1)\n",
    "easy_y = df_easy['Outcome']\n",
    "X_train, X_test, y_train, y_test = train_test_split(easy_X, easy_y, test_size=0.2, random_state=42)\n",
    "\n",
    "# Train model\n",
    "model = LogisticRegression()\n",
    "model.fit(X_train, y_train)\n",
    "\n",
    "# Predict\n",
    "y_pred = model.predict(X_test)\n",
    "y_proba = model.predict_proba(X_test)[:, 1]\n",
    "\n",
    "# Evaluation\n",
    "print(\"📊 Classification Report:\\n\", classification_report(y_test, y_pred))\n",
    "print(\"🧾 Confusion Matrix:\\n\", confusion_matrix(y_test, y_pred))\n",
    "print(\"📈 ROC AUC Score:\", roc_auc_score(y_test, y_proba))"
   ]
  },
  {
   "cell_type": "markdown",
   "id": "f259f556",
   "metadata": {},
   "source": [
    "## 🟡 Medium Complexity Dataset\n",
    "**Overview:** This synthetic dataset includes 8 features and introduces:\n",
    "- Class imbalance (65% vs 35%)\n",
    "- Noise (5%)\n",
    "- Slightly harder separation between classes\n",
    "\n",
    "**Features:** Glucose, BMI, Age, BloodPressure, Insulin, SkinThickness, Cholesterol, Pregnancies"
   ]
  },
  {
   "cell_type": "code",
   "execution_count": null,
   "id": "b38c3532",
   "metadata": {},
   "outputs": [],
   "source": [
    "medium_df = pd.read_csv('logistic_regression_medium_dataset.csv')\n",
    "medium_df.head()"
   ]
  },
  {
   "cell_type": "code",
   "execution_count": null,
   "id": "a15c43ca",
   "metadata": {},
   "outputs": [],
   "source": [
    "# Visualize class distribution\n",
    "sns.countplot(data=medium_df, x='Outcome')\n",
    "plt.title('Target Class Distribution')\n",
    "plt.show()\n",
    "\n",
    "# Summary stats\n",
    "medium_df.describe()"
   ]
  },
  {
   "cell_type": "markdown",
   "id": "348f2005",
   "metadata": {},
   "source": [
    "## 🔴 Complex Dataset Overview\n",
    "**Scenario**: This synthetic dataset emulates a real-world high-stakes classification case, such as fraud or rare disease detection.\n",
    "\n",
    "**Characteristics:**\n",
    "- 2000 samples\n",
    "- 20 features (informative + redundant)\n",
    "- Heavy class imbalance: 90% vs 10%\n",
    "- 10% label noise\n",
    "\n",
    "This complexity challenges both generalization and evaluation of Logistic Regression models."
   ]
  },
  {
   "cell_type": "code",
   "execution_count": null,
   "id": "24ac366e",
   "metadata": {},
   "outputs": [],
   "source": [
    "df_complex = pd.read_csv('logistic_regression_complex_dataset.csv')\n",
    "df_complex.head()"
   ]
  },
  {
   "cell_type": "code",
   "execution_count": null,
   "id": "cd4e9196",
   "metadata": {},
   "outputs": [],
   "source": [
    "# Visualize imbalance\n",
    "import seaborn as sns\n",
    "import matplotlib.pyplot as plt\n",
    "\n",
    "sns.countplot(data=df_complex, x='Outcome')\n",
    "plt.title('Class Imbalance in Complex Dataset')\n",
    "plt.show()\n",
    "\n",
    "# Basic summary\n",
    "df_complex.describe()"
   ]
  }
 ],
 "metadata": {
  "kernelspec": {
   "display_name": "agentic_ai_rag",
   "language": "python",
   "name": "python3"
  },
  "language_info": {
   "name": "python",
   "version": "3.10.16"
  }
 },
 "nbformat": 4,
 "nbformat_minor": 5
}
